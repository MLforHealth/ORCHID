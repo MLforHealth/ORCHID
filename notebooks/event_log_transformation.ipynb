{
 "cells": [
  {
   "cell_type": "code",
   "execution_count": 8,
   "metadata": {},
   "outputs": [],
   "source": [
    "import pandas as pd\n"
   ]
  },
  {
   "cell_type": "code",
   "execution_count": 9,
   "metadata": {},
   "outputs": [
    {
     "name": "stderr",
     "output_type": "stream",
     "text": [
      "C:\\Users\\adams\\anaconda3\\lib\\site-packages\\IPython\\core\\interactiveshell.py:3071: DtypeWarning: Columns (7) have mixed types.Specify dtype option on import or set low_memory=False.\n",
      "  has_raised = await self.run_ast_nodes(code_ast.body, cell_name,\n"
     ]
    }
   ],
   "source": [
    "#load the data set from physionet\n",
    "df = pd.read_csv(\"orchid.csv\")"
   ]
  },
  {
   "cell_type": "code",
   "execution_count": 10,
   "outputs": [],
   "source": [
    "# Convert to timestamp columns\n",
    "time_columns = ['time_referred', 'time_approached', 'time_authorized', 'time_procured']\n",
    "for col in time_columns:\n",
    "    df[col] = pd.to_datetime(df[col])"
   ],
   "metadata": {
    "collapsed": false,
    "pycharm": {
     "name": "#%%\n"
    }
   }
  },
  {
   "cell_type": "code",
   "execution_count": 11,
   "metadata": {
    "pycharm": {
     "name": "#%%\n"
    }
   },
   "outputs": [
    {
     "name": "stdout",
     "output_type": "stream",
     "text": [
      "           PatientID    Activity               Timestamp   OPO Gender  \\\n",
      "77991     OPO1_P1000    Referral 2033-06-21 22:45:30.263  OPO1      M   \n",
      "77992     OPO1_P1000  Evaluation 2033-06-21 22:46:30.263  OPO1      M   \n",
      "43614   OPO1_P100009    Referral 2034-08-11 15:01:25.340  OPO1      F   \n",
      "43615   OPO1_P100009  Evaluation 2034-08-11 15:02:25.340  OPO1      F   \n",
      "59914    OPO1_P10004    Referral 2036-04-13 00:02:01.093  OPO1      M   \n",
      "...              ...         ...                     ...   ...    ...   \n",
      "282445  OPO6_P999899  Evaluation 2034-07-01 05:08:00.000  OPO6      F   \n",
      "276298  OPO6_P999923    Referral 2031-09-20 09:06:00.000  OPO6      F   \n",
      "276299  OPO6_P999923  Evaluation 2031-09-20 09:07:00.000  OPO6      F   \n",
      "266318   OPO6_P99994    Referral 2030-08-23 05:14:00.000  OPO6      M   \n",
      "266319   OPO6_P99994  Evaluation 2030-08-23 05:15:00.000  OPO6      M   \n",
      "\n",
      "                     Race   Age  \n",
      "77991   White / Caucasian  15.0  \n",
      "77992   White / Caucasian  15.0  \n",
      "43614   White / Caucasian  71.0  \n",
      "43615   White / Caucasian  71.0  \n",
      "59914   White / Caucasian  39.0  \n",
      "...                   ...   ...  \n",
      "282445  White / Caucasian  51.0  \n",
      "276298  White / Caucasian  60.0  \n",
      "276299  White / Caucasian  60.0  \n",
      "266318  White / Caucasian  77.0  \n",
      "266319  White / Caucasian  77.0  \n",
      "\n",
      "[316216 rows x 7 columns]\n"
     ]
    }
   ],
   "source": [
    "from pandas import Timedelta\n",
    "event_log_list = []\n",
    "# Iterate over each row to extract events and their timestamps\n",
    "for i, row in df.iterrows():\n",
    "    patient_id = row['PatientID']\n",
    "    event_rows = []\n",
    "    opo = row[\"OPO\"]\n",
    "    gender = row[\"Gender\"]\n",
    "    race = row[\"Race\"]\n",
    "    age = row[\"Age\"]\n",
    "    # Add each activity only if its corresponding entry is not False\n",
    "    # If there are no timestamps for an event we use the timestamp of the next event and subtract one second\n",
    "    if row['time_referred']:\n",
    "        event_rows.append({'PatientID': patient_id, 'Activity': 'Referral', 'Timestamp': row['time_referred'], \"OPO\":opo, \"Gender\":gender,\"Race\":race,\"Age\":age})\n",
    "        \n",
    "    if row['time_referred']:  # Assuming evaluation happens after referral\n",
    "        event_rows.append({'PatientID': patient_id, 'Activity': 'Evaluation', 'Timestamp': row['time_referred'] + Timedelta(minutes=1), \"OPO\":opo, \"Gender\":gender,\"Race\":race,\"Age\":age})\n",
    "        \n",
    "    if row['approached']:\n",
    "        event_rows.append({'PatientID': patient_id, 'Activity': 'Approach', 'Timestamp': row['time_approached'], \"OPO\":opo, \"Gender\":gender,\"Race\":race,\"Age\":age})\n",
    "        \n",
    "    if row['authorized']:\n",
    "        event_rows.append({'PatientID': patient_id, 'Activity': 'Authorization', 'Timestamp': row['time_authorized'], \"OPO\":opo, \"Gender\":gender,\"Race\":race,\"Age\":age})\n",
    "        \n",
    "    if row['procured']:\n",
    "        event_rows.append({'PatientID': patient_id, 'Activity': 'Procurement', 'Timestamp': row['time_procured'], \"OPO\":opo, \"Gender\":gender,\"Race\":race,\"Age\":age})\n",
    "        \n",
    "    if row['transplanted']:\n",
    "        event_rows.append({'PatientID': patient_id, 'Activity': 'Transplant', 'Timestamp': row['time_procured'] + Timedelta(minutes=1), \"OPO\":opo, \"Gender\":gender,\"Race\":race,\"Age\":age})\n",
    "    \n",
    "    if event_rows:\n",
    "        temp_df = pd.DataFrame(event_rows)\n",
    "        event_log_list.append(temp_df)\n",
    "\n",
    "# Concatenate all DataFrame chunks to make the final event log\n",
    "event_log = pd.concat(event_log_list, ignore_index=True)\n",
    "\n",
    "# Sort event log by PatientID and Timestamp\n",
    "event_log.sort_values(by=['PatientID', 'Timestamp'], inplace=True)\n",
    "\n",
    "# Save the event log to a CSV file\n",
    "event_log.to_csv(\"event_log.csv\", index=False)\n",
    "\n",
    "print(event_log)\n",
    "\n",
    "\n",
    "\n"
   ]
  }
 ],
 "metadata": {
  "kernelspec": {
   "display_name": "Python 3",
   "language": "python",
   "name": "python3"
  },
  "language_info": {
   "codemirror_mode": {
    "name": "ipython",
    "version": 3
   },
   "file_extension": ".py",
   "mimetype": "text/x-python",
   "name": "python",
   "nbconvert_exporter": "python",
   "pygments_lexer": "ipython3",
   "version": "3.8.3"
  }
 },
 "nbformat": 4,
 "nbformat_minor": 4
}